{
  "cells": [
    {
      "cell_type": "markdown",
      "metadata": {},
      "source": [
        "### - This file shows simple techniques used for first understanding the dataset through various stats.\n",
        "### - Visualization is also done at different stages to see the differencemade to the dataset. And preprocessing the data. So that we can use this cleaned data for our task.\n",
        "### - Finally we make predictions"
      ]
    },
    {
      "cell_type": "code",
      "execution_count": null,
      "metadata": {
        "id": "4IABG0HvbsJ9"
      },
      "outputs": [],
      "source": [
        "import pandas as pd\n",
        "import numpy as np\n",
        "df=pd.read_csv('/content/IRIS.csv',encoding='latin1')"
      ]
    },
    {
      "cell_type": "code",
      "execution_count": null,
      "metadata": {
        "id": "FB2gquD2iuxj"
      },
      "outputs": [],
      "source": [
        "import matplotlib.pyplot as plt\n",
        "import seaborn as sns\n",
        "from sklearn.model_selection import train_test_split\n",
        "from sklearn.tree import DecisionTreeClassifier"
      ]
    },
    {
      "cell_type": "code",
      "execution_count": null,
      "metadata": {
        "colab": {
          "base_uri": "https://localhost:8080/"
        },
        "id": "MWap6CEhfbnr",
        "outputId": "b497c868-5a35-41fb-d46f-61fd598f3394"
      },
      "outputs": [],
      "source": [
        "df.info()"
      ]
    },
    {
      "cell_type": "code",
      "execution_count": null,
      "metadata": {
        "colab": {
          "base_uri": "https://localhost:8080/"
        },
        "id": "9QpfkgDxfeYW",
        "outputId": "3a0b5c3d-0384-41d0-edc7-333f48aed911"
      },
      "outputs": [],
      "source": [
        "df.isnull().sum()"
      ]
    },
    {
      "cell_type": "code",
      "execution_count": null,
      "metadata": {
        "colab": {
          "base_uri": "https://localhost:8080/"
        },
        "id": "wtY9t56gfiuN",
        "outputId": "aa50b67b-1bb6-4e0b-aa23-f0729fafbb39"
      },
      "outputs": [],
      "source": [
        "df.shape"
      ]
    },
    {
      "cell_type": "code",
      "execution_count": null,
      "metadata": {
        "colab": {
          "base_uri": "https://localhost:8080/",
          "height": 206
        },
        "id": "b4PdxyHPfv5k",
        "outputId": "57fce412-1948-4f9b-c68d-0e4b5bf05591"
      },
      "outputs": [],
      "source": [
        "df.head()"
      ]
    },
    {
      "cell_type": "code",
      "execution_count": null,
      "metadata": {
        "colab": {
          "base_uri": "https://localhost:8080/"
        },
        "id": "dPbDzzI_irKs",
        "outputId": "cce821c3-329c-4af6-9e3b-c0fbafa3c4f2"
      },
      "outputs": [],
      "source": [
        "df['species'].value_counts()"
      ]
    },
    {
      "cell_type": "code",
      "execution_count": null,
      "metadata": {
        "colab": {
          "base_uri": "https://localhost:8080/",
          "height": 564
        },
        "id": "fd1MqU4QjFXv",
        "outputId": "f6c6ff14-b2a7-4cf7-e3e5-a438dc19d552"
      },
      "outputs": [],
      "source": [
        "# Create a box plot or violin plot\n",
        "plt.figure(figsize=(10, 6))\n",
        "sns.boxplot(x=\"species\", y=\"petal_width\", data=df)\n",
        "\n",
        "# Add labels and title\n",
        "plt.xlabel(\"Species\")\n",
        "plt.ylabel(\"Petal Width\")\n",
        "plt.title(\"Distribution of Petal Width by Species\")\n",
        "\n",
        "# Show plot\n",
        "plt.show()"
      ]
    },
    {
      "cell_type": "code",
      "execution_count": null,
      "metadata": {
        "colab": {
          "base_uri": "https://localhost:8080/",
          "height": 564
        },
        "id": "BW1Fr0B3SsMr",
        "outputId": "315d005f-286c-49ce-c965-3e937164be84"
      },
      "outputs": [],
      "source": [
        "# Create a box plot or violin plot\n",
        "plt.figure(figsize=(10, 6))\n",
        "sns.boxplot(x=\"species\", y=\"petal_length\", data=df)\n",
        "\n",
        "# Add labels and title\n",
        "plt.xlabel(\"Species\")\n",
        "plt.ylabel(\"Petal length\")\n",
        "plt.title(\"Distribution of Petal Width by Species\")\n",
        "\n",
        "# Show plot\n",
        "plt.show()"
      ]
    },
    {
      "cell_type": "code",
      "execution_count": null,
      "metadata": {
        "colab": {
          "base_uri": "https://localhost:8080/",
          "height": 564
        },
        "id": "W9n-F9UVS3YJ",
        "outputId": "e16ae7f8-1691-4da3-d26d-6d648be98ee7"
      },
      "outputs": [],
      "source": [
        "# Create a box plot or violin plot\n",
        "plt.figure(figsize=(10, 6))\n",
        "sns.boxplot(x=\"species\", y=\"sepal_width\", data=df)\n",
        "\n",
        "# Add labels and title\n",
        "plt.xlabel(\"Species\")\n",
        "plt.ylabel(\"sepal Width\")\n",
        "plt.title(\"Distribution of Petal Width by Species\")\n",
        "\n",
        "# Show plot\n",
        "plt.show()"
      ]
    },
    {
      "cell_type": "code",
      "execution_count": null,
      "metadata": {
        "colab": {
          "base_uri": "https://localhost:8080/",
          "height": 564
        },
        "id": "ewyJR18TS-Lb",
        "outputId": "6665b3b2-5a6b-40ae-c3eb-06a4584a12a7"
      },
      "outputs": [],
      "source": [
        "# Create a box plot or violin plot\n",
        "plt.figure(figsize=(10, 6))\n",
        "sns.boxplot(x=\"species\", y=\"sepal_length\", data=df)\n",
        "\n",
        "# Add labels and title\n",
        "plt.xlabel(\"Species\")\n",
        "plt.ylabel(\"sepal length\")\n",
        "plt.title(\"Distribution of Petal Width by Species\")\n",
        "\n",
        "# Show plot\n",
        "plt.show()"
      ]
    },
    {
      "cell_type": "code",
      "execution_count": null,
      "metadata": {
        "colab": {
          "base_uri": "https://localhost:8080/",
          "height": 564
        },
        "id": "szYWKkQFTHIU",
        "outputId": "c19ba279-e35a-488c-cb95-891641614d86"
      },
      "outputs": [],
      "source": [
        "# Filter the dataset for iris_setosa\n",
        "iris_setosa = df[df['species'] == 'Iris-setosa']\n",
        "\n",
        "# Calculate the IQR (Interquartile Range) for petal_width\n",
        "Q1 = iris_setosa['petal_width'].quantile(0.25)\n",
        "Q3 = iris_setosa['petal_width'].quantile(0.75)\n",
        "IQR = Q3 - Q1\n",
        "\n",
        "# Define the lower and upper bounds for outlier removal\n",
        "lower_bound = Q1 - 1.5 * IQR\n",
        "upper_bound = Q3 + 1.5 * IQR\n",
        "\n",
        "# Remove outliers\n",
        "iris_setosa_no_outliers = iris_setosa[(iris_setosa['petal_width'] >= lower_bound) & (iris_setosa['petal_width'] <= upper_bound)]\n",
        "\n",
        "plt.figure(figsize=(10, 6))\n",
        "sns.boxplot(x='species', y='petal_width', data=iris_setosa_no_outliers)\n",
        "plt.title('Boxplot of Petal Width for Iris Setosa (without outliers)')\n",
        "plt.show()\n",
        "# Print the number of data points before and after outlier removal\n",
        "# print(\"Number of data points before removing outliers:\", len(iris_setosa))\n",
        "# print(\"Number of data points after removing outliers:\", len(iris_setosa_no_outliers))"
      ]
    },
    {
      "cell_type": "code",
      "execution_count": null,
      "metadata": {
        "colab": {
          "base_uri": "https://localhost:8080/",
          "height": 999
        },
        "id": "7bUWPGbCy5_-",
        "outputId": "9a2f5897-58af-4c8d-984f-e624d8152c35"
      },
      "outputs": [],
      "source": [
        "sns.set(style=\"ticks\")\n",
        "sns.pairplot(df,hue=\"species\", markers=[\"o\", \"s\", \"v\"])\n",
        "plt.show()"
      ]
    },
    {
      "cell_type": "markdown",
      "metadata": {
        "id": "o-xVguOJH1W4"
      },
      "source": [
        "Removing the outliers present in specific attributes of each species. Replacing them with mean. As observed in the previous visualizations"
      ]
    },
    {
      "cell_type": "code",
      "execution_count": null,
      "metadata": {
        "colab": {
          "base_uri": "https://localhost:8080/",
          "height": 951
        },
        "id": "PBZ7qjLAouN8",
        "outputId": "2edf03d1-9669-4012-9e99-bff9d46410cd"
      },
      "outputs": [],
      "source": [
        "attributes = ['sepal_length', 'sepal_width', 'petal_length', 'petal_width']\n",
        "species_with_outliers = {'Iris-setosa': ['petal_length', 'petal_width'],\n",
        "                         'Iris-versicolor': ['petal_length'],\n",
        "                         'Iris-virginica': ['sepal_length', 'sepal_width']}\n",
        "\n",
        "# Find and replace outliers with median for specific species and attributes\n",
        "for species, outlier_columns in species_with_outliers.items():\n",
        "    for column in outlier_columns:\n",
        "        q_low = df[df['species'] == species][column].quantile(0.05)\n",
        "        q_high = df[df['species'] == species][column].quantile(0.95)\n",
        "\n",
        "        # Replace outliers with median\n",
        "        median_value = df[df['species'] == species][column].median()\n",
        "        df.loc[(df['species'] == species) & ((df[column] < q_low) | (df[column] > q_high)), column] = median_value\n",
        "\n",
        "# Box plots for each attribute with 'species' as hue after handling outliers\n",
        "sns.set(style=\"ticks\")\n",
        "plt.figure(figsize=(12, 6))\n",
        "\n",
        "for i, column in enumerate(attributes):\n",
        "    plt.subplot(2, 2, i + 1)\n",
        "    sns.boxplot(x='species', y=column, data=df, palette='Set3')\n",
        "\n",
        "    plt.title(f'Box Plot of {column} (Outliers replaced )')\n",
        "    plt.xlabel('Species')\n",
        "    plt.ylabel(column)\n",
        "\n",
        "plt.tight_layout()\n",
        "plt.show()"
      ]
    },
    {
      "cell_type": "code",
      "execution_count": null,
      "metadata": {
        "id": "-sJpkDSaJtx0"
      },
      "outputs": [],
      "source": [
        "X = df.drop(\"species\", axis=1)\n",
        "y = df[\"species\"]\n",
        "X_train, X_test, y_train, y_test = train_test_split(X, y, test_size=0.2)"
      ]
    },
    {
      "cell_type": "code",
      "execution_count": null,
      "metadata": {
        "colab": {
          "base_uri": "https://localhost:8080/",
          "height": 74
        },
        "id": "rIUFYm8uKaUW",
        "outputId": "1b8f97c2-7c41-43e2-89a7-d1d8d155abc3"
      },
      "outputs": [],
      "source": [
        "dt = DecisionTreeClassifier()\n",
        "dt.fit(X_train, y_train)"
      ]
    },
    {
      "cell_type": "code",
      "execution_count": null,
      "metadata": {
        "colab": {
          "base_uri": "https://localhost:8080/",
          "height": 74
        },
        "id": "RLSeb9TXKjq6",
        "outputId": "18c04576-a1c4-4c93-f967-08d100c62fe9"
      },
      "outputs": [],
      "source": [
        "dt = DecisionTreeClassifier(max_depth=2)\n",
        "dt.fit(X_train, y_train)"
      ]
    },
    {
      "cell_type": "code",
      "execution_count": null,
      "metadata": {
        "colab": {
          "base_uri": "https://localhost:8080/"
        },
        "id": "79fk9V2sKnh5",
        "outputId": "d4c1f453-e0f2-4f5e-b02c-9e844ce7d5a0"
      },
      "outputs": [],
      "source": [
        "from sklearn.metrics import accuracy_score\n",
        "y_pred = dt.predict(X_test)\n",
        "score = accuracy_score(y_test, y_pred)\n",
        "print(\"Accuracy Score: \", score)"
      ]
    }
  ],
  "metadata": {
    "colab": {
      "provenance": []
    },
    "kernelspec": {
      "display_name": "Python 3",
      "name": "python3"
    },
    "language_info": {
      "name": "python",
      "version": "3.12.4"
    }
  },
  "nbformat": 4,
  "nbformat_minor": 0
}
