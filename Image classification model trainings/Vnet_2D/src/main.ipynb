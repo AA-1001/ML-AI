{
 "cells": [
  {
   "cell_type": "code",
   "execution_count": 1,
   "metadata": {},
   "outputs": [],
   "source": [
    "import torch\n",
    "import torchvision.transforms as transforms\n",
    "from model import VNet\n",
    "from loader import load_data\n",
    "from trainer import VNetTraining"
   ]
  },
  {
   "cell_type": "code",
   "execution_count": 2,
   "metadata": {},
   "outputs": [
    {
     "name": "stdout",
     "output_type": "stream",
     "text": [
      "Using device: cuda\n"
     ]
    }
   ],
   "source": [
    "# Set the device\n",
    "device = torch.device(\"cuda\" if torch.cuda.is_available() else \"cpu\")\n",
    "print(f\"Using device: {device}\")\n",
    "\n",
    "# Load the data\n",
    "train_data_dir = '../data/train_resized/slices'\n",
    "train_mask_dir = '../data/train_resized/masks'\n",
    "val_data_dir = '../data/val_resized/slices'\n",
    "val_mask_dir = '../data/val_resized/masks'"
   ]
  },
  {
   "cell_type": "code",
   "execution_count": null,
   "metadata": {},
   "outputs": [],
   "source": [
    "# Load training and validation datasets\n",
    "train_loader, val_loader = load_data(train_data_dir, train_mask_dir, val_data_dir, val_mask_dir)\n",
    "\n",
    "# Initialize the model and training instance\n",
    "training_instance = VNetTraining(train_loader, val_loader)\n",
    "\n",
    "# Set number of epochs\n",
    "num_epochs = 200\n",
    "\n",
    "# Train the model\n",
    "print(\"Starting training...\")\n",
    "training_instance.train(num_epochs=num_epochs)\n",
    "\n",
    "# Save the trained model\n",
    "training_instance.save_model()"
   ]
  }
 ],
 "metadata": {
  "kernelspec": {
   "display_name": "AFS_torch",
   "language": "python",
   "name": "python3"
  },
  "language_info": {
   "codemirror_mode": {
    "name": "ipython",
    "version": 3
   },
   "file_extension": ".py",
   "mimetype": "text/x-python",
   "name": "python",
   "nbconvert_exporter": "python",
   "pygments_lexer": "ipython3",
   "version": "3.8.10"
  }
 },
 "nbformat": 4,
 "nbformat_minor": 2
}
